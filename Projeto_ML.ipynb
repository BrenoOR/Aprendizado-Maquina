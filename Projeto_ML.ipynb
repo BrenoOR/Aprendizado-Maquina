{
  "cells": [
    {
      "attachments": {},
      "cell_type": "markdown",
      "metadata": {
        "id": "GqOSKKs3LuhU"
      },
      "source": [
        "# Projeto - Aprendizado de Máquina\n",
        "## Grupo 7\n",
        "\n",
        "- Breno Rodrigues (bor)\n",
        "\n",
        "## Metodologia de Teste\n",
        "- Serão feitos testes de duas formas:\n",
        " 1. Colunas de features com valores brutos\n",
        " 2. Colunas de features com valores normalizados\n",
        "\n",
        "- Otimizar e selecionar os hiperparâmetros\n",
        "  - Métricas de acerto:\n",
        "    Nosso palpite é recall_score, mas talvez seja interessante testar as outras métricas\n",
        "\n",
        "## Links úteis\n",
        "  - [Dataset Images](http://www.cs.wisc.edu/~street/images/)\n",
        "  - [Standard Scaler](https://scikit-learn.org/stable/modules/generated/sklearn.preprocessing.StandardScaler.html)\n",
        "  - [Cross Validation](https://scikit-learn.org/stable/modules/cross_validation.html)\n",
        "  - [Precision Score](https://scikit-learn.org/stable/modules/generated/sklearn.metrics.precision_score.html)\n",
        "  - [Recall Score](https://scikit-learn.org/stable/modules/generated/sklearn.metrics.recall_score.html)\n",
        "\n",
        "  - Modelos:\n",
        "    1. [Decision Tree](https://scikit-learn.org/stable/modules/generated/sklearn.tree.DecisionTreeClassifier.html)\n",
        "    2. [Gaussian Naive Bayes](https://scikit-learn.org/stable/modules/generated/sklearn.naive_bayes.GaussianNB.html)\n",
        "    3. [Logistic Regression](https://scikit-learn.org/stable/modules/generated/sklearn.linear_model.LogisticRegression.html)\n",
        "    4. [K Neighbors](https://scikit-learn.org/stable/modules/generated/sklearn.neighbors.KNeighborsClassifier.html)\n",
        "\n"
      ]
    },
    {
      "attachments": {},
      "cell_type": "markdown",
      "metadata": {
        "id": "_PtYw9_XLuhW"
      },
      "source": [
        "### Imports"
      ]
    },
    {
      "cell_type": "code",
      "execution_count": 1,
      "metadata": {
        "id": "4AdaB6daLuhX"
      },
      "outputs": [
        {
          "name": "stderr",
          "output_type": "stream",
          "text": [
            "c:\\Users\\lider\\anaconda3\\envs\\ML\\lib\\site-packages\\tqdm\\auto.py:21: TqdmWarning: IProgress not found. Please update jupyter and ipywidgets. See https://ipywidgets.readthedocs.io/en/stable/user_install.html\n",
            "  from .autonotebook import tqdm as notebook_tqdm\n"
          ]
        }
      ],
      "source": [
        "import os\n",
        "#from google.colab import drive\n",
        "import pandas as pd\n",
        "import numpy as np\n",
        "import optuna as opt\n",
        "import matplotlib.pyplot as plt\n",
        "from sklearn.model_selection import train_test_split\n",
        "from sklearn.tree import plot_tree\n",
        "\n",
        "from sklearn.metrics import accuracy_score, precision_score, recall_score, f1_score, confusion_matrix, classification_report\n",
        "\n",
        "from sklearn.tree import DecisionTreeClassifier\n",
        "from sklearn.naive_bayes import GaussianNB\n",
        "from sklearn.linear_model import LogisticRegression\n",
        "from sklearn.neighbors import KNeighborsClassifier"
      ]
    },
    {
      "attachments": {},
      "cell_type": "markdown",
      "metadata": {
        "id": "r2QcU2eULuhY"
      },
      "source": [
        "### Dataset Info"
      ]
    },
    {
      "cell_type": "code",
      "execution_count": 2,
      "metadata": {
        "colab": {
          "base_uri": "https://localhost:8080/"
        },
        "id": "XX9RZG--LuhY",
        "outputId": "5e1aa327-1c28-4ca8-a77b-3529223235e7"
      },
      "outputs": [
        {
          "name": "stdout",
          "output_type": "stream",
          "text": [
            "1. Title: Wisconsin Diagnostic Breast Cancer (WDBC)\n",
            "\n",
            "2. Source Information\n",
            "\n",
            "a) Creators: \n",
            "\n",
            "\tDr. William H. Wolberg, General Surgery Dept., University of\n",
            "\tWisconsin,  Clinical Sciences Center, Madison, WI 53792\n",
            "\twolberg@eagle.surgery.wisc.edu\n",
            "\n",
            "\tW. Nick Street, Computer Sciences Dept., University of\n",
            "\tWisconsin, 1210 West Dayton St., Madison, WI 53706\n",
            "\tstreet@cs.wisc.edu  608-262-6619\n",
            "\n",
            "\tOlvi L. Mangasarian, Computer Sciences Dept., University of\n",
            "\tWisconsin, 1210 West Dayton St., Madison, WI 53706\n",
            "\tolvi@cs.wisc.edu \n",
            "\n",
            "b) Donor: Nick Street\n",
            "\n",
            "c) Date: November 1995\n",
            "\n",
            "3. Past Usage:\n",
            "\n",
            "first usage:\n",
            "\n",
            "\tW.N. Street, W.H. Wolberg and O.L. Mangasarian \n",
            "\tNuclear feature extraction for breast tumor diagnosis.\n",
            "\tIS&T/SPIE 1993 International Symposium on Electronic Imaging: Science\n",
            "\tand Technology, volume 1905, pages 861-870, San Jose, CA, 1993.\n",
            "\n",
            "OR literature:\n",
            "\n",
            "\tO.L. Mangasarian, W.N. Street and W.H. Wolberg. \n",
            "\tBreast cancer diagnosis and prognosis via linear programming. \n",
            "\tOperations Research, 43(4), pages 570-577, July-August 1995.\n",
            "\n",
            "Medical literature:\n",
            "\n",
            "\tW.H. Wolberg, W.N. Street, and O.L. Mangasarian. \n",
            "\tMachine learning techniques to diagnose breast cancer from\n",
            "\tfine-needle aspirates.  \n",
            "\tCancer Letters 77 (1994) 163-171.\n",
            "\n",
            "\tW.H. Wolberg, W.N. Street, and O.L. Mangasarian. \n",
            "\tImage analysis and machine learning applied to breast cancer\n",
            "\tdiagnosis and prognosis.  \n",
            "\tAnalytical and Quantitative Cytology and Histology, Vol. 17\n",
            "\tNo. 2, pages 77-87, April 1995. \n",
            "\n",
            "\tW.H. Wolberg, W.N. Street, D.M. Heisey, and O.L. Mangasarian. \n",
            "\tComputerized breast cancer diagnosis and prognosis from fine\n",
            "\tneedle aspirates.  \n",
            "\tArchives of Surgery 1995;130:511-516.\n",
            "\n",
            "\tW.H. Wolberg, W.N. Street, D.M. Heisey, and O.L. Mangasarian. \n",
            "\tComputer-derived nuclear features distinguish malignant from\n",
            "\tbenign breast cytology.  \n",
            "\tHuman Pathology, 26:792--796, 1995.\n",
            "\n",
            "See also:\n",
            "\thttp://www.cs.wisc.edu/~olvi/uwmp/mpml.html\n",
            "\thttp://www.cs.wisc.edu/~olvi/uwmp/cancer.html\n",
            "\n",
            "Results:\n",
            "\n",
            "\t- predicting field 2, diagnosis: B = benign, M = malignant\n",
            "\t- sets are linearly separable using all 30 input features\n",
            "\t- best predictive accuracy obtained using one separating plane\n",
            "\t\tin the 3-D space of Worst Area, Worst Smoothness and\n",
            "\t\tMean Texture.  Estimated accuracy 97.5% using repeated\n",
            "\t\t10-fold crossvalidations.  Classifier has correctly\n",
            "\t\tdiagnosed 176 consecutive new patients as of November\n",
            "\t\t1995. \n",
            "\n",
            "4. Relevant information\n",
            "\n",
            "\tFeatures are computed from a digitized image of a fine needle\n",
            "\taspirate (FNA) of a breast mass.  They describe\n",
            "\tcharacteristics of the cell nuclei present in the image.\n",
            "\tA few of the images can be found at\n",
            "\thttp://www.cs.wisc.edu/~street/images/\n",
            "\n",
            "\tSeparating plane described above was obtained using\n",
            "\tMultisurface Method-Tree (MSM-T) [K. P. Bennett, \"Decision Tree\n",
            "\tConstruction Via Linear Programming.\" Proceedings of the 4th\n",
            "\tMidwest Artificial Intelligence and Cognitive Science Society,\n",
            "\tpp. 97-101, 1992], a classification method which uses linear\n",
            "\tprogramming to construct a decision tree.  Relevant features\n",
            "\twere selected using an exhaustive search in the space of 1-4\n",
            "\tfeatures and 1-3 separating planes.\n",
            "\n",
            "\tThe actual linear program used to obtain the separating plane\n",
            "\tin the 3-dimensional space is that described in:\n",
            "\t[K. P. Bennett and O. L. Mangasarian: \"Robust Linear\n",
            "\tProgramming Discrimination of Two Linearly Inseparable Sets\",\n",
            "\tOptimization Methods and Software 1, 1992, 23-34].\n",
            "\n",
            "\n",
            "\tThis database is also available through the UW CS ftp server:\n",
            "\n",
            "\tftp ftp.cs.wisc.edu\n",
            "\tcd math-prog/cpo-dataset/machine-learn/WDBC/\n",
            "\n",
            "5. Number of instances: 569 \n",
            "\n",
            "6. Number of attributes: 32 (ID, diagnosis, 30 real-valued input features)\n",
            "\n",
            "7. Attribute information\n",
            "\n",
            "1) ID number\n",
            "2) Diagnosis (M = malignant, B = benign)\n",
            "3-32)\n",
            "\n",
            "Ten real-valued features are computed for each cell nucleus:\n",
            "\n",
            "\ta) radius (mean of distances from center to points on the perimeter)\n",
            "\tb) texture (standard deviation of gray-scale values)\n",
            "\tc) perimeter\n",
            "\td) area\n",
            "\te) smoothness (local variation in radius lengths)\n",
            "\tf) compactness (perimeter^2 / area - 1.0)\n",
            "\tg) concavity (severity of concave portions of the contour)\n",
            "\th) concave points (number of concave portions of the contour)\n",
            "\ti) symmetry \n",
            "\tj) fractal dimension (\"coastline approximation\" - 1)\n",
            "\n",
            "Several of the papers listed above contain detailed descriptions of\n",
            "how these features are computed. \n",
            "\n",
            "The mean, standard error, and \"worst\" or largest (mean of the three\n",
            "largest values) of these features were computed for each image,\n",
            "resulting in 30 features.  For instance, field 3 is Mean Radius, field\n",
            "13 is Radius SE, field 23 is Worst Radius.\n",
            "\n",
            "All feature values are recoded with four significant digits.\n",
            "\n",
            "8. Missing attribute values: none\n",
            "\n",
            "9. Class distribution: 357 benign, 212 malignant\n"
          ]
        }
      ],
      "source": [
        "#drive.mount('/content/drive')\n",
        "path = os.path.join('')\n",
        "\n",
        "# Carregando detalhes do dataset\n",
        "with open(f\"{path}wdbc.names\", \"r\") as file:\n",
        "    print(file.read())"
      ]
    },
    {
      "attachments": {},
      "cell_type": "markdown",
      "metadata": {
        "id": "eZNM9H0nLuhZ"
      },
      "source": [
        "### Setup dataset"
      ]
    },
    {
      "cell_type": "code",
      "execution_count": 3,
      "metadata": {
        "colab": {
          "base_uri": "https://localhost:8080/",
          "height": 265
        },
        "id": "ORWkuB0NLuhZ",
        "outputId": "cd2a7ba9-1ff6-4213-e10c-076904d722a6"
      },
      "outputs": [
        {
          "name": "stdout",
          "output_type": "stream",
          "text": [
            "B = 357\n",
            "M = 212\n"
          ]
        },
        {
          "data": {
            "text/html": [
              "<div>\n",
              "<style scoped>\n",
              "    .dataframe tbody tr th:only-of-type {\n",
              "        vertical-align: middle;\n",
              "    }\n",
              "\n",
              "    .dataframe tbody tr th {\n",
              "        vertical-align: top;\n",
              "    }\n",
              "\n",
              "    .dataframe thead th {\n",
              "        text-align: right;\n",
              "    }\n",
              "</style>\n",
              "<table border=\"1\" class=\"dataframe\">\n",
              "  <thead>\n",
              "    <tr style=\"text-align: right;\">\n",
              "      <th></th>\n",
              "      <th>1</th>\n",
              "      <th>2</th>\n",
              "      <th>3</th>\n",
              "      <th>4</th>\n",
              "      <th>5</th>\n",
              "      <th>6</th>\n",
              "      <th>7</th>\n",
              "      <th>8</th>\n",
              "      <th>9</th>\n",
              "      <th>10</th>\n",
              "      <th>...</th>\n",
              "      <th>22</th>\n",
              "      <th>23</th>\n",
              "      <th>24</th>\n",
              "      <th>25</th>\n",
              "      <th>26</th>\n",
              "      <th>27</th>\n",
              "      <th>28</th>\n",
              "      <th>29</th>\n",
              "      <th>30</th>\n",
              "      <th>31</th>\n",
              "    </tr>\n",
              "  </thead>\n",
              "  <tbody>\n",
              "    <tr>\n",
              "      <th>0</th>\n",
              "      <td>B</td>\n",
              "      <td>10.820</td>\n",
              "      <td>24.21</td>\n",
              "      <td>68.89</td>\n",
              "      <td>361.6</td>\n",
              "      <td>0.08192</td>\n",
              "      <td>0.06602</td>\n",
              "      <td>0.01548</td>\n",
              "      <td>0.00816</td>\n",
              "      <td>0.1976</td>\n",
              "      <td>...</td>\n",
              "      <td>13.03</td>\n",
              "      <td>31.45</td>\n",
              "      <td>83.90</td>\n",
              "      <td>505.6</td>\n",
              "      <td>0.1204</td>\n",
              "      <td>0.1633</td>\n",
              "      <td>0.06194</td>\n",
              "      <td>0.03264</td>\n",
              "      <td>0.3059</td>\n",
              "      <td>0.07626</td>\n",
              "    </tr>\n",
              "    <tr>\n",
              "      <th>1</th>\n",
              "      <td>M</td>\n",
              "      <td>13.860</td>\n",
              "      <td>16.93</td>\n",
              "      <td>90.96</td>\n",
              "      <td>578.9</td>\n",
              "      <td>0.10260</td>\n",
              "      <td>0.15170</td>\n",
              "      <td>0.09901</td>\n",
              "      <td>0.05602</td>\n",
              "      <td>0.2106</td>\n",
              "      <td>...</td>\n",
              "      <td>15.75</td>\n",
              "      <td>26.93</td>\n",
              "      <td>104.40</td>\n",
              "      <td>750.1</td>\n",
              "      <td>0.1460</td>\n",
              "      <td>0.4370</td>\n",
              "      <td>0.46360</td>\n",
              "      <td>0.16540</td>\n",
              "      <td>0.3630</td>\n",
              "      <td>0.10590</td>\n",
              "    </tr>\n",
              "    <tr>\n",
              "      <th>2</th>\n",
              "      <td>B</td>\n",
              "      <td>6.981</td>\n",
              "      <td>13.43</td>\n",
              "      <td>43.79</td>\n",
              "      <td>143.5</td>\n",
              "      <td>0.11700</td>\n",
              "      <td>0.07568</td>\n",
              "      <td>0.00000</td>\n",
              "      <td>0.00000</td>\n",
              "      <td>0.1930</td>\n",
              "      <td>...</td>\n",
              "      <td>7.93</td>\n",
              "      <td>19.54</td>\n",
              "      <td>50.41</td>\n",
              "      <td>185.2</td>\n",
              "      <td>0.1584</td>\n",
              "      <td>0.1202</td>\n",
              "      <td>0.00000</td>\n",
              "      <td>0.00000</td>\n",
              "      <td>0.2932</td>\n",
              "      <td>0.09382</td>\n",
              "    </tr>\n",
              "    <tr>\n",
              "      <th>3</th>\n",
              "      <td>B</td>\n",
              "      <td>12.760</td>\n",
              "      <td>13.37</td>\n",
              "      <td>82.29</td>\n",
              "      <td>504.1</td>\n",
              "      <td>0.08794</td>\n",
              "      <td>0.07948</td>\n",
              "      <td>0.04052</td>\n",
              "      <td>0.02548</td>\n",
              "      <td>0.1601</td>\n",
              "      <td>...</td>\n",
              "      <td>14.19</td>\n",
              "      <td>16.40</td>\n",
              "      <td>92.04</td>\n",
              "      <td>618.8</td>\n",
              "      <td>0.1194</td>\n",
              "      <td>0.2208</td>\n",
              "      <td>0.17690</td>\n",
              "      <td>0.08411</td>\n",
              "      <td>0.2564</td>\n",
              "      <td>0.08253</td>\n",
              "    </tr>\n",
              "    <tr>\n",
              "      <th>4</th>\n",
              "      <td>B</td>\n",
              "      <td>16.170</td>\n",
              "      <td>16.07</td>\n",
              "      <td>106.30</td>\n",
              "      <td>788.5</td>\n",
              "      <td>0.09880</td>\n",
              "      <td>0.14380</td>\n",
              "      <td>0.06651</td>\n",
              "      <td>0.05397</td>\n",
              "      <td>0.1990</td>\n",
              "      <td>...</td>\n",
              "      <td>16.97</td>\n",
              "      <td>19.14</td>\n",
              "      <td>113.10</td>\n",
              "      <td>861.5</td>\n",
              "      <td>0.1235</td>\n",
              "      <td>0.2550</td>\n",
              "      <td>0.21140</td>\n",
              "      <td>0.12510</td>\n",
              "      <td>0.3153</td>\n",
              "      <td>0.08960</td>\n",
              "    </tr>\n",
              "  </tbody>\n",
              "</table>\n",
              "<p>5 rows × 31 columns</p>\n",
              "</div>"
            ],
            "text/plain": [
              "  1       2      3       4      5        6        7        8        9   \\\n",
              "0  B  10.820  24.21   68.89  361.6  0.08192  0.06602  0.01548  0.00816   \n",
              "1  M  13.860  16.93   90.96  578.9  0.10260  0.15170  0.09901  0.05602   \n",
              "2  B   6.981  13.43   43.79  143.5  0.11700  0.07568  0.00000  0.00000   \n",
              "3  B  12.760  13.37   82.29  504.1  0.08794  0.07948  0.04052  0.02548   \n",
              "4  B  16.170  16.07  106.30  788.5  0.09880  0.14380  0.06651  0.05397   \n",
              "\n",
              "       10  ...     22     23      24     25      26      27       28       29  \\\n",
              "0  0.1976  ...  13.03  31.45   83.90  505.6  0.1204  0.1633  0.06194  0.03264   \n",
              "1  0.2106  ...  15.75  26.93  104.40  750.1  0.1460  0.4370  0.46360  0.16540   \n",
              "2  0.1930  ...   7.93  19.54   50.41  185.2  0.1584  0.1202  0.00000  0.00000   \n",
              "3  0.1601  ...  14.19  16.40   92.04  618.8  0.1194  0.2208  0.17690  0.08411   \n",
              "4  0.1990  ...  16.97  19.14  113.10  861.5  0.1235  0.2550  0.21140  0.12510   \n",
              "\n",
              "       30       31  \n",
              "0  0.3059  0.07626  \n",
              "1  0.3630  0.10590  \n",
              "2  0.2932  0.09382  \n",
              "3  0.2564  0.08253  \n",
              "4  0.3153  0.08960  \n",
              "\n",
              "[5 rows x 31 columns]"
            ]
          },
          "execution_count": 3,
          "metadata": {},
          "output_type": "execute_result"
        }
      ],
      "source": [
        "wdbcData = pd.read_csv(f'{path}wdbc.data', header=None)\n",
        "\n",
        "# Droping the ID column (does not have any predictive power)\n",
        "wdbcData.drop(wdbcData.columns[0], axis=1, inplace=True)\n",
        "\n",
        "m = (wdbcData.iloc[:, 0] == 'M').sum()\n",
        "b = (wdbcData.iloc[:, 0] == 'B').sum()\n",
        "\n",
        "print(f'B = {b}')\n",
        "print(f'M = {m}')\n",
        "\n",
        "# Shuffling rows\n",
        "wdbcData = wdbcData.sample(frac=1).reset_index(drop=True)\n",
        "\n",
        "# Splitting data into train and test sets 60/40\n",
        "trainData, testData = train_test_split(wdbcData, test_size=0.4)\n",
        "\n",
        "# Splitting test data into validation and test sets 50/50\n",
        "testData, validationData = train_test_split(testData, test_size=0.5)\n",
        "\n",
        "# Separating Y response variable and X features\n",
        "trainY, trainX = trainData.iloc[:, 0], trainData.iloc[:, 1:]\n",
        "testY, testX = testData.iloc[:, 0], testData.iloc[:, 1:]\n",
        "validationY, validationX = validationData.iloc[:, 0], validationData.iloc[:, 1:]\n",
        "\n",
        "wdbcData.head()\n",
        "#trainY.head()\n",
        "#print(trainX.head())\n"
      ]
    },
    {
      "attachments": {},
      "cell_type": "markdown",
      "metadata": {
        "id": "kZ3IbKRnL2sx"
      },
      "source": [
        "### Modelos"
      ]
    },
    {
      "attachments": {},
      "cell_type": "markdown",
      "metadata": {
        "id": "VVi_RooALuhZ"
      },
      "source": [
        "#### Decision Tree"
      ]
    },
    {
      "cell_type": "code",
      "execution_count": 6,
      "metadata": {
        "id": "eeU6BLAQLuhZ"
      },
      "outputs": [
        {
          "name": "stderr",
          "output_type": "stream",
          "text": [
            "[I 2023-07-13 13:57:57,879] A new study created in memory with name: no-name-5468208e-0ef4-4c28-8912-a0c6f9b45b33\n"
          ]
        },
        {
          "name": "stdout",
          "output_type": "stream",
          "text": [
            "Trial 0:\n",
            "  max_depth = 11\n",
            "  ccp_alpha = 0.1\n"
          ]
        },
        {
          "name": "stderr",
          "output_type": "stream",
          "text": [
            "[I 2023-07-13 13:57:58,245] Trial 0 finished with value: 0.9230769230769231 and parameters: {'max_depth': 11, 'ccp_alpha': 0.1}. Best is trial 0 with value: 0.9230769230769231.\n"
          ]
        },
        {
          "name": "stdout",
          "output_type": "stream",
          "text": [
            "Trial 1:\n",
            "  max_depth = 26\n",
            "  ccp_alpha = 0.1\n"
          ]
        },
        {
          "name": "stderr",
          "output_type": "stream",
          "text": [
            "[I 2023-07-13 13:57:58,689] Trial 1 finished with value: 0.9230769230769231 and parameters: {'max_depth': 26, 'ccp_alpha': 0.1}. Best is trial 0 with value: 0.9230769230769231.\n"
          ]
        },
        {
          "name": "stdout",
          "output_type": "stream",
          "text": [
            "Trial 2:\n",
            "  max_depth = 23\n",
            "  ccp_alpha = 0.1\n"
          ]
        },
        {
          "name": "stderr",
          "output_type": "stream",
          "text": [
            "[I 2023-07-13 13:57:59,025] Trial 2 finished with value: 0.9230769230769231 and parameters: {'max_depth': 23, 'ccp_alpha': 0.1}. Best is trial 0 with value: 0.9230769230769231.\n"
          ]
        },
        {
          "name": "stdout",
          "output_type": "stream",
          "text": [
            "Trial 3:\n",
            "  max_depth = 17\n",
            "  ccp_alpha = 0.5\n"
          ]
        },
        {
          "name": "stderr",
          "output_type": "stream",
          "text": [
            "[I 2023-07-13 13:57:59,330] Trial 3 finished with value: 0.8461538461538461 and parameters: {'max_depth': 17, 'ccp_alpha': 0.5}. Best is trial 0 with value: 0.9230769230769231.\n"
          ]
        },
        {
          "name": "stdout",
          "output_type": "stream",
          "text": [
            "Trial 4:\n",
            "  max_depth = 14\n",
            "  ccp_alpha = 0.0\n"
          ]
        },
        {
          "name": "stderr",
          "output_type": "stream",
          "text": [
            "[I 2023-07-13 13:57:59,987] Trial 4 finished with value: 0.9230769230769231 and parameters: {'max_depth': 14, 'ccp_alpha': 0.0}. Best is trial 0 with value: 0.9230769230769231.\n"
          ]
        },
        {
          "name": "stdout",
          "output_type": "stream",
          "text": [
            "Trial 5:\n",
            "  max_depth = 28\n",
            "  ccp_alpha = 0.5\n"
          ]
        },
        {
          "name": "stderr",
          "output_type": "stream",
          "text": [
            "[I 2023-07-13 13:58:00,297] Trial 5 finished with value: 0.8461538461538461 and parameters: {'max_depth': 28, 'ccp_alpha': 0.5}. Best is trial 0 with value: 0.9230769230769231.\n"
          ]
        },
        {
          "name": "stdout",
          "output_type": "stream",
          "text": [
            "Trial 6:\n",
            "  max_depth = 12\n",
            "  ccp_alpha = 0.0\n"
          ]
        },
        {
          "name": "stderr",
          "output_type": "stream",
          "text": [
            "[I 2023-07-13 13:58:00,996] Trial 6 finished with value: 0.9487179487179487 and parameters: {'max_depth': 12, 'ccp_alpha': 0.0}. Best is trial 6 with value: 0.9487179487179487.\n"
          ]
        },
        {
          "name": "stdout",
          "output_type": "stream",
          "text": [
            "Trial 7:\n",
            "  max_depth = 11\n",
            "  ccp_alpha = 0.0\n"
          ]
        },
        {
          "name": "stderr",
          "output_type": "stream",
          "text": [
            "[I 2023-07-13 13:58:01,602] Trial 7 finished with value: 0.9230769230769231 and parameters: {'max_depth': 11, 'ccp_alpha': 0.0}. Best is trial 6 with value: 0.9487179487179487.\n"
          ]
        },
        {
          "name": "stdout",
          "output_type": "stream",
          "text": [
            "Trial 8:\n",
            "  max_depth = 27\n",
            "  ccp_alpha = 0.0\n"
          ]
        },
        {
          "name": "stderr",
          "output_type": "stream",
          "text": [
            "[I 2023-07-13 13:58:02,265] Trial 8 finished with value: 0.9230769230769231 and parameters: {'max_depth': 27, 'ccp_alpha': 0.0}. Best is trial 6 with value: 0.9487179487179487.\n"
          ]
        },
        {
          "name": "stdout",
          "output_type": "stream",
          "text": [
            "Trial 9:\n",
            "  max_depth = 30\n",
            "  ccp_alpha = 0.0\n"
          ]
        },
        {
          "name": "stderr",
          "output_type": "stream",
          "text": [
            "[I 2023-07-13 13:58:02,909] Trial 9 finished with value: 0.9487179487179487 and parameters: {'max_depth': 30, 'ccp_alpha': 0.0}. Best is trial 6 with value: 0.9487179487179487.\n"
          ]
        },
        {
          "name": "stdout",
          "output_type": "stream",
          "text": [
            "Trial 10:\n",
            "  max_depth = 20\n",
            "  ccp_alpha = 0.0\n"
          ]
        },
        {
          "name": "stderr",
          "output_type": "stream",
          "text": [
            "[I 2023-07-13 13:58:03,549] Trial 10 finished with value: 0.9230769230769231 and parameters: {'max_depth': 20, 'ccp_alpha': 0.0}. Best is trial 6 with value: 0.9487179487179487.\n"
          ]
        },
        {
          "name": "stdout",
          "output_type": "stream",
          "text": [
            "Trial 11:\n",
            "  max_depth = 19\n",
            "  ccp_alpha = 0.0\n"
          ]
        },
        {
          "name": "stderr",
          "output_type": "stream",
          "text": [
            "[I 2023-07-13 13:58:04,153] Trial 11 finished with value: 0.9487179487179487 and parameters: {'max_depth': 19, 'ccp_alpha': 0.0}. Best is trial 6 with value: 0.9487179487179487.\n"
          ]
        },
        {
          "name": "stdout",
          "output_type": "stream",
          "text": [
            "Trial 12:\n",
            "  max_depth = 30\n",
            "  ccp_alpha = 0.0\n"
          ]
        },
        {
          "name": "stderr",
          "output_type": "stream",
          "text": [
            "[I 2023-07-13 13:58:04,776] Trial 12 finished with value: 0.9487179487179487 and parameters: {'max_depth': 30, 'ccp_alpha': 0.0}. Best is trial 6 with value: 0.9487179487179487.\n"
          ]
        },
        {
          "name": "stdout",
          "output_type": "stream",
          "text": [
            "Trial 13:\n",
            "  max_depth = 23\n",
            "  ccp_alpha = 0.0\n"
          ]
        },
        {
          "name": "stderr",
          "output_type": "stream",
          "text": [
            "[I 2023-07-13 13:58:05,362] Trial 13 finished with value: 0.9487179487179487 and parameters: {'max_depth': 23, 'ccp_alpha': 0.0}. Best is trial 6 with value: 0.9487179487179487.\n"
          ]
        },
        {
          "name": "stdout",
          "output_type": "stream",
          "text": [
            "Trial 14:\n",
            "  max_depth = 14\n",
            "  ccp_alpha = 0.0\n"
          ]
        },
        {
          "name": "stderr",
          "output_type": "stream",
          "text": [
            "[I 2023-07-13 13:58:05,946] Trial 14 finished with value: 0.9487179487179487 and parameters: {'max_depth': 14, 'ccp_alpha': 0.0}. Best is trial 6 with value: 0.9487179487179487.\n"
          ]
        },
        {
          "name": "stdout",
          "output_type": "stream",
          "text": [
            "Trial 15:\n",
            "  max_depth = 24\n",
            "  ccp_alpha = 0.5\n"
          ]
        },
        {
          "name": "stderr",
          "output_type": "stream",
          "text": [
            "[I 2023-07-13 13:58:06,233] Trial 15 finished with value: 0.8461538461538461 and parameters: {'max_depth': 24, 'ccp_alpha': 0.5}. Best is trial 6 with value: 0.9487179487179487.\n"
          ]
        },
        {
          "name": "stdout",
          "output_type": "stream",
          "text": [
            "Trial 16:\n",
            "  max_depth = 16\n",
            "  ccp_alpha = 0.0\n"
          ]
        },
        {
          "name": "stderr",
          "output_type": "stream",
          "text": [
            "[I 2023-07-13 13:58:06,875] Trial 16 finished with value: 0.9230769230769231 and parameters: {'max_depth': 16, 'ccp_alpha': 0.0}. Best is trial 6 with value: 0.9487179487179487.\n"
          ]
        },
        {
          "name": "stdout",
          "output_type": "stream",
          "text": [
            "Trial 17:\n",
            "  max_depth = 10\n",
            "  ccp_alpha = 0.0\n"
          ]
        },
        {
          "name": "stderr",
          "output_type": "stream",
          "text": [
            "[I 2023-07-13 13:58:07,509] Trial 17 finished with value: 0.9230769230769231 and parameters: {'max_depth': 10, 'ccp_alpha': 0.0}. Best is trial 6 with value: 0.9487179487179487.\n"
          ]
        },
        {
          "name": "stdout",
          "output_type": "stream",
          "text": [
            "Trial 18:\n",
            "  max_depth = 21\n",
            "  ccp_alpha = 0.5\n"
          ]
        },
        {
          "name": "stderr",
          "output_type": "stream",
          "text": [
            "[I 2023-07-13 13:58:07,908] Trial 18 finished with value: 0.8461538461538461 and parameters: {'max_depth': 21, 'ccp_alpha': 0.5}. Best is trial 6 with value: 0.9487179487179487.\n"
          ]
        },
        {
          "name": "stdout",
          "output_type": "stream",
          "text": [
            "Trial 19:\n",
            "  max_depth = 30\n",
            "  ccp_alpha = 0.1\n"
          ]
        },
        {
          "name": "stderr",
          "output_type": "stream",
          "text": [
            "[I 2023-07-13 13:58:08,228] Trial 19 finished with value: 0.9230769230769231 and parameters: {'max_depth': 30, 'ccp_alpha': 0.1}. Best is trial 6 with value: 0.9487179487179487.\n"
          ]
        },
        {
          "name": "stdout",
          "output_type": "stream",
          "text": [
            "Trial 20:\n",
            "  max_depth = 13\n",
            "  ccp_alpha = 0.0\n"
          ]
        },
        {
          "name": "stderr",
          "output_type": "stream",
          "text": [
            "[I 2023-07-13 13:58:08,897] Trial 20 finished with value: 0.9230769230769231 and parameters: {'max_depth': 13, 'ccp_alpha': 0.0}. Best is trial 6 with value: 0.9487179487179487.\n"
          ]
        },
        {
          "name": "stdout",
          "output_type": "stream",
          "text": [
            "Trial 21:\n",
            "  max_depth = 18\n",
            "  ccp_alpha = 0.0\n"
          ]
        },
        {
          "name": "stderr",
          "output_type": "stream",
          "text": [
            "[I 2023-07-13 13:58:09,575] Trial 21 finished with value: 0.9230769230769231 and parameters: {'max_depth': 18, 'ccp_alpha': 0.0}. Best is trial 6 with value: 0.9487179487179487.\n"
          ]
        },
        {
          "name": "stdout",
          "output_type": "stream",
          "text": [
            "Trial 22:\n",
            "  max_depth = 19\n",
            "  ccp_alpha = 0.0\n"
          ]
        },
        {
          "name": "stderr",
          "output_type": "stream",
          "text": [
            "[I 2023-07-13 13:58:10,203] Trial 22 finished with value: 0.9487179487179487 and parameters: {'max_depth': 19, 'ccp_alpha': 0.0}. Best is trial 6 with value: 0.9487179487179487.\n"
          ]
        },
        {
          "name": "stdout",
          "output_type": "stream",
          "text": [
            "Trial 23:\n",
            "  max_depth = 22\n",
            "  ccp_alpha = 0.0\n"
          ]
        },
        {
          "name": "stderr",
          "output_type": "stream",
          "text": [
            "[I 2023-07-13 13:58:10,818] Trial 23 finished with value: 0.9230769230769231 and parameters: {'max_depth': 22, 'ccp_alpha': 0.0}. Best is trial 6 with value: 0.9487179487179487.\n"
          ]
        },
        {
          "name": "stdout",
          "output_type": "stream",
          "text": [
            "Trial 24:\n",
            "  max_depth = 25\n",
            "  ccp_alpha = 0.0\n"
          ]
        },
        {
          "name": "stderr",
          "output_type": "stream",
          "text": [
            "[I 2023-07-13 13:58:11,437] Trial 24 finished with value: 0.9487179487179487 and parameters: {'max_depth': 25, 'ccp_alpha': 0.0}. Best is trial 6 with value: 0.9487179487179487.\n"
          ]
        },
        {
          "name": "stdout",
          "output_type": "stream",
          "text": [
            "Trial 25:\n",
            "  max_depth = 15\n",
            "  ccp_alpha = 0.0\n"
          ]
        },
        {
          "name": "stderr",
          "output_type": "stream",
          "text": [
            "[I 2023-07-13 13:58:12,081] Trial 25 finished with value: 0.9230769230769231 and parameters: {'max_depth': 15, 'ccp_alpha': 0.0}. Best is trial 6 with value: 0.9487179487179487.\n"
          ]
        },
        {
          "name": "stdout",
          "output_type": "stream",
          "text": [
            "Trial 26:\n",
            "  max_depth = 12\n",
            "  ccp_alpha = 0.0\n"
          ]
        },
        {
          "name": "stderr",
          "output_type": "stream",
          "text": [
            "[I 2023-07-13 13:58:12,744] Trial 26 finished with value: 0.9230769230769231 and parameters: {'max_depth': 12, 'ccp_alpha': 0.0}. Best is trial 6 with value: 0.9487179487179487.\n"
          ]
        },
        {
          "name": "stdout",
          "output_type": "stream",
          "text": [
            "Trial 27:\n",
            "  max_depth = 17\n",
            "  ccp_alpha = 0.0\n"
          ]
        },
        {
          "name": "stderr",
          "output_type": "stream",
          "text": [
            "[I 2023-07-13 13:58:13,360] Trial 27 finished with value: 0.9487179487179487 and parameters: {'max_depth': 17, 'ccp_alpha': 0.0}. Best is trial 6 with value: 0.9487179487179487.\n"
          ]
        },
        {
          "name": "stdout",
          "output_type": "stream",
          "text": [
            "Trial 28:\n",
            "  max_depth = 20\n",
            "  ccp_alpha = 0.5\n"
          ]
        },
        {
          "name": "stderr",
          "output_type": "stream",
          "text": [
            "[I 2023-07-13 13:58:13,667] Trial 28 finished with value: 0.8461538461538461 and parameters: {'max_depth': 20, 'ccp_alpha': 0.5}. Best is trial 6 with value: 0.9487179487179487.\n"
          ]
        },
        {
          "name": "stdout",
          "output_type": "stream",
          "text": [
            "Trial 29:\n",
            "  max_depth = 12\n",
            "  ccp_alpha = 0.1\n"
          ]
        },
        {
          "name": "stderr",
          "output_type": "stream",
          "text": [
            "[I 2023-07-13 13:58:14,014] Trial 29 finished with value: 0.9230769230769231 and parameters: {'max_depth': 12, 'ccp_alpha': 0.1}. Best is trial 6 with value: 0.9487179487179487.\n"
          ]
        },
        {
          "name": "stdout",
          "output_type": "stream",
          "text": [
            "Trial 30:\n",
            "  max_depth = 28\n",
            "  ccp_alpha = 0.1\n"
          ]
        },
        {
          "name": "stderr",
          "output_type": "stream",
          "text": [
            "[I 2023-07-13 13:58:14,361] Trial 30 finished with value: 0.9230769230769231 and parameters: {'max_depth': 28, 'ccp_alpha': 0.1}. Best is trial 6 with value: 0.9487179487179487.\n"
          ]
        },
        {
          "name": "stdout",
          "output_type": "stream",
          "text": [
            "Trial 31:\n",
            "  max_depth = 30\n",
            "  ccp_alpha = 0.0\n"
          ]
        },
        {
          "name": "stderr",
          "output_type": "stream",
          "text": [
            "[I 2023-07-13 13:58:15,017] Trial 31 finished with value: 0.9230769230769231 and parameters: {'max_depth': 30, 'ccp_alpha': 0.0}. Best is trial 6 with value: 0.9487179487179487.\n"
          ]
        },
        {
          "name": "stdout",
          "output_type": "stream",
          "text": [
            "Trial 32:\n",
            "  max_depth = 29\n",
            "  ccp_alpha = 0.0\n"
          ]
        },
        {
          "name": "stderr",
          "output_type": "stream",
          "text": [
            "[I 2023-07-13 13:58:15,767] Trial 32 finished with value: 0.9230769230769231 and parameters: {'max_depth': 29, 'ccp_alpha': 0.0}. Best is trial 6 with value: 0.9487179487179487.\n"
          ]
        },
        {
          "name": "stdout",
          "output_type": "stream",
          "text": [
            "Trial 33:\n",
            "  max_depth = 26\n",
            "  ccp_alpha = 0.0\n"
          ]
        },
        {
          "name": "stderr",
          "output_type": "stream",
          "text": [
            "[I 2023-07-13 13:58:16,464] Trial 33 finished with value: 0.9230769230769231 and parameters: {'max_depth': 26, 'ccp_alpha': 0.0}. Best is trial 6 with value: 0.9487179487179487.\n"
          ]
        },
        {
          "name": "stdout",
          "output_type": "stream",
          "text": [
            "Trial 34:\n",
            "  max_depth = 26\n",
            "  ccp_alpha = 0.0\n"
          ]
        },
        {
          "name": "stderr",
          "output_type": "stream",
          "text": [
            "[I 2023-07-13 13:58:17,155] Trial 34 finished with value: 0.9230769230769231 and parameters: {'max_depth': 26, 'ccp_alpha': 0.0}. Best is trial 6 with value: 0.9487179487179487.\n"
          ]
        },
        {
          "name": "stdout",
          "output_type": "stream",
          "text": [
            "Trial 35:\n",
            "  max_depth = 29\n",
            "  ccp_alpha = 0.1\n"
          ]
        },
        {
          "name": "stderr",
          "output_type": "stream",
          "text": [
            "[I 2023-07-13 13:58:17,557] Trial 35 finished with value: 0.9230769230769231 and parameters: {'max_depth': 29, 'ccp_alpha': 0.1}. Best is trial 6 with value: 0.9487179487179487.\n"
          ]
        },
        {
          "name": "stdout",
          "output_type": "stream",
          "text": [
            "Trial 36:\n",
            "  max_depth = 24\n",
            "  ccp_alpha = 0.0\n"
          ]
        },
        {
          "name": "stderr",
          "output_type": "stream",
          "text": [
            "[I 2023-07-13 13:58:18,211] Trial 36 finished with value: 0.9487179487179487 and parameters: {'max_depth': 24, 'ccp_alpha': 0.0}. Best is trial 6 with value: 0.9487179487179487.\n"
          ]
        },
        {
          "name": "stdout",
          "output_type": "stream",
          "text": [
            "Trial 37:\n",
            "  max_depth = 28\n",
            "  ccp_alpha = 0.5\n"
          ]
        },
        {
          "name": "stderr",
          "output_type": "stream",
          "text": [
            "[I 2023-07-13 13:58:18,538] Trial 37 finished with value: 0.8461538461538461 and parameters: {'max_depth': 28, 'ccp_alpha': 0.5}. Best is trial 6 with value: 0.9487179487179487.\n"
          ]
        },
        {
          "name": "stdout",
          "output_type": "stream",
          "text": [
            "Trial 38:\n",
            "  max_depth = 18\n",
            "  ccp_alpha = 0.0\n"
          ]
        },
        {
          "name": "stderr",
          "output_type": "stream",
          "text": [
            "[I 2023-07-13 13:58:19,150] Trial 38 finished with value: 0.9230769230769231 and parameters: {'max_depth': 18, 'ccp_alpha': 0.0}. Best is trial 6 with value: 0.9487179487179487.\n"
          ]
        },
        {
          "name": "stdout",
          "output_type": "stream",
          "text": [
            "Trial 39:\n",
            "  max_depth = 27\n",
            "  ccp_alpha = 0.0\n"
          ]
        },
        {
          "name": "stderr",
          "output_type": "stream",
          "text": [
            "[I 2023-07-13 13:58:19,871] Trial 39 finished with value: 0.9230769230769231 and parameters: {'max_depth': 27, 'ccp_alpha': 0.0}. Best is trial 6 with value: 0.9487179487179487.\n"
          ]
        },
        {
          "name": "stdout",
          "output_type": "stream",
          "text": [
            "Trial 40:\n",
            "  max_depth = 10\n",
            "  ccp_alpha = 0.0\n"
          ]
        },
        {
          "name": "stderr",
          "output_type": "stream",
          "text": [
            "[I 2023-07-13 13:58:20,967] Trial 40 finished with value: 0.9487179487179487 and parameters: {'max_depth': 10, 'ccp_alpha': 0.0}. Best is trial 6 with value: 0.9487179487179487.\n"
          ]
        },
        {
          "name": "stdout",
          "output_type": "stream",
          "text": [
            "Trial 41:\n",
            "  max_depth = 24\n",
            "  ccp_alpha = 0.0\n"
          ]
        },
        {
          "name": "stderr",
          "output_type": "stream",
          "text": [
            "[I 2023-07-13 13:58:22,019] Trial 41 finished with value: 0.9487179487179487 and parameters: {'max_depth': 24, 'ccp_alpha': 0.0}. Best is trial 6 with value: 0.9487179487179487.\n"
          ]
        },
        {
          "name": "stdout",
          "output_type": "stream",
          "text": [
            "Trial 42:\n",
            "  max_depth = 23\n",
            "  ccp_alpha = 0.0\n"
          ]
        },
        {
          "name": "stderr",
          "output_type": "stream",
          "text": [
            "[I 2023-07-13 13:58:23,145] Trial 42 finished with value: 0.9487179487179487 and parameters: {'max_depth': 23, 'ccp_alpha': 0.0}. Best is trial 6 with value: 0.9487179487179487.\n"
          ]
        },
        {
          "name": "stdout",
          "output_type": "stream",
          "text": [
            "Trial 43:\n",
            "  max_depth = 22\n",
            "  ccp_alpha = 0.0\n"
          ]
        },
        {
          "name": "stderr",
          "output_type": "stream",
          "text": [
            "[I 2023-07-13 13:58:24,215] Trial 43 finished with value: 0.9487179487179487 and parameters: {'max_depth': 22, 'ccp_alpha': 0.0}. Best is trial 6 with value: 0.9487179487179487.\n"
          ]
        },
        {
          "name": "stdout",
          "output_type": "stream",
          "text": [
            "Trial 44:\n",
            "  max_depth = 30\n",
            "  ccp_alpha = 0.0\n"
          ]
        },
        {
          "name": "stderr",
          "output_type": "stream",
          "text": [
            "[I 2023-07-13 13:58:25,252] Trial 44 finished with value: 0.9230769230769231 and parameters: {'max_depth': 30, 'ccp_alpha': 0.0}. Best is trial 6 with value: 0.9487179487179487.\n"
          ]
        },
        {
          "name": "stdout",
          "output_type": "stream",
          "text": [
            "Trial 45:\n",
            "  max_depth = 16\n",
            "  ccp_alpha = 0.0\n"
          ]
        },
        {
          "name": "stderr",
          "output_type": "stream",
          "text": [
            "[I 2023-07-13 13:58:26,335] Trial 45 finished with value: 0.9230769230769231 and parameters: {'max_depth': 16, 'ccp_alpha': 0.0}. Best is trial 6 with value: 0.9487179487179487.\n"
          ]
        },
        {
          "name": "stdout",
          "output_type": "stream",
          "text": [
            "Trial 46:\n",
            "  max_depth = 21\n",
            "  ccp_alpha = 0.5\n"
          ]
        },
        {
          "name": "stderr",
          "output_type": "stream",
          "text": [
            "[I 2023-07-13 13:58:26,848] Trial 46 finished with value: 0.8461538461538461 and parameters: {'max_depth': 21, 'ccp_alpha': 0.5}. Best is trial 6 with value: 0.9487179487179487.\n"
          ]
        },
        {
          "name": "stdout",
          "output_type": "stream",
          "text": [
            "Trial 47:\n",
            "  max_depth = 27\n",
            "  ccp_alpha = 0.1\n"
          ]
        },
        {
          "name": "stderr",
          "output_type": "stream",
          "text": [
            "[I 2023-07-13 13:58:27,429] Trial 47 finished with value: 0.9230769230769231 and parameters: {'max_depth': 27, 'ccp_alpha': 0.1}. Best is trial 6 with value: 0.9487179487179487.\n"
          ]
        },
        {
          "name": "stdout",
          "output_type": "stream",
          "text": [
            "Trial 48:\n",
            "  max_depth = 29\n",
            "  ccp_alpha = 0.0\n"
          ]
        },
        {
          "name": "stderr",
          "output_type": "stream",
          "text": [
            "[I 2023-07-13 13:58:28,542] Trial 48 finished with value: 0.9487179487179487 and parameters: {'max_depth': 29, 'ccp_alpha': 0.0}. Best is trial 6 with value: 0.9487179487179487.\n"
          ]
        },
        {
          "name": "stdout",
          "output_type": "stream",
          "text": [
            "Trial 49:\n",
            "  max_depth = 15\n",
            "  ccp_alpha = 0.0\n"
          ]
        },
        {
          "name": "stderr",
          "output_type": "stream",
          "text": [
            "[I 2023-07-13 13:58:29,704] Trial 49 finished with value: 0.9230769230769231 and parameters: {'max_depth': 15, 'ccp_alpha': 0.0}. Best is trial 6 with value: 0.9487179487179487.\n"
          ]
        },
        {
          "name": "stdout",
          "output_type": "stream",
          "text": [
            "Trial 50:\n",
            "  max_depth = 19\n",
            "  ccp_alpha = 0.0\n"
          ]
        },
        {
          "name": "stderr",
          "output_type": "stream",
          "text": [
            "[I 2023-07-13 13:58:30,694] Trial 50 finished with value: 0.9230769230769231 and parameters: {'max_depth': 19, 'ccp_alpha': 0.0}. Best is trial 6 with value: 0.9487179487179487.\n"
          ]
        },
        {
          "name": "stdout",
          "output_type": "stream",
          "text": [
            "Trial 51:\n",
            "  max_depth = 13\n",
            "  ccp_alpha = 0.0\n"
          ]
        },
        {
          "name": "stderr",
          "output_type": "stream",
          "text": [
            "[I 2023-07-13 13:58:31,740] Trial 51 finished with value: 0.9487179487179487 and parameters: {'max_depth': 13, 'ccp_alpha': 0.0}. Best is trial 6 with value: 0.9487179487179487.\n"
          ]
        },
        {
          "name": "stdout",
          "output_type": "stream",
          "text": [
            "Trial 52:\n",
            "  max_depth = 11\n",
            "  ccp_alpha = 0.0\n"
          ]
        },
        {
          "name": "stderr",
          "output_type": "stream",
          "text": [
            "[I 2023-07-13 13:58:32,790] Trial 52 finished with value: 0.9230769230769231 and parameters: {'max_depth': 11, 'ccp_alpha': 0.0}. Best is trial 6 with value: 0.9487179487179487.\n"
          ]
        },
        {
          "name": "stdout",
          "output_type": "stream",
          "text": [
            "Trial 53:\n",
            "  max_depth = 12\n",
            "  ccp_alpha = 0.0\n"
          ]
        },
        {
          "name": "stderr",
          "output_type": "stream",
          "text": [
            "[I 2023-07-13 13:58:33,910] Trial 53 finished with value: 0.9487179487179487 and parameters: {'max_depth': 12, 'ccp_alpha': 0.0}. Best is trial 6 with value: 0.9487179487179487.\n"
          ]
        },
        {
          "name": "stdout",
          "output_type": "stream",
          "text": [
            "Trial 54:\n",
            "  max_depth = 14\n",
            "  ccp_alpha = 0.0\n"
          ]
        },
        {
          "name": "stderr",
          "output_type": "stream",
          "text": [
            "[I 2023-07-13 13:58:35,139] Trial 54 finished with value: 0.9487179487179487 and parameters: {'max_depth': 14, 'ccp_alpha': 0.0}. Best is trial 6 with value: 0.9487179487179487.\n"
          ]
        },
        {
          "name": "stdout",
          "output_type": "stream",
          "text": [
            "Trial 55:\n",
            "  max_depth = 14\n",
            "  ccp_alpha = 0.0\n"
          ]
        },
        {
          "name": "stderr",
          "output_type": "stream",
          "text": [
            "[I 2023-07-13 13:58:36,207] Trial 55 finished with value: 0.9487179487179487 and parameters: {'max_depth': 14, 'ccp_alpha': 0.0}. Best is trial 6 with value: 0.9487179487179487.\n"
          ]
        },
        {
          "name": "stdout",
          "output_type": "stream",
          "text": [
            "Trial 56:\n",
            "  max_depth = 10\n",
            "  ccp_alpha = 0.5\n"
          ]
        },
        {
          "name": "stderr",
          "output_type": "stream",
          "text": [
            "[I 2023-07-13 13:58:36,702] Trial 56 finished with value: 0.8461538461538461 and parameters: {'max_depth': 10, 'ccp_alpha': 0.5}. Best is trial 6 with value: 0.9487179487179487.\n"
          ]
        },
        {
          "name": "stdout",
          "output_type": "stream",
          "text": [
            "Trial 57:\n",
            "  max_depth = 25\n",
            "  ccp_alpha = 0.0\n"
          ]
        },
        {
          "name": "stderr",
          "output_type": "stream",
          "text": [
            "[I 2023-07-13 13:58:37,748] Trial 57 finished with value: 0.9230769230769231 and parameters: {'max_depth': 25, 'ccp_alpha': 0.0}. Best is trial 6 with value: 0.9487179487179487.\n"
          ]
        },
        {
          "name": "stdout",
          "output_type": "stream",
          "text": [
            "Trial 58:\n",
            "  max_depth = 13\n",
            "  ccp_alpha = 0.0\n"
          ]
        },
        {
          "name": "stderr",
          "output_type": "stream",
          "text": [
            "[I 2023-07-13 13:58:38,872] Trial 58 finished with value: 0.9487179487179487 and parameters: {'max_depth': 13, 'ccp_alpha': 0.0}. Best is trial 6 with value: 0.9487179487179487.\n"
          ]
        },
        {
          "name": "stdout",
          "output_type": "stream",
          "text": [
            "Trial 59:\n",
            "  max_depth = 17\n",
            "  ccp_alpha = 0.1\n"
          ]
        },
        {
          "name": "stderr",
          "output_type": "stream",
          "text": [
            "[I 2023-07-13 13:58:39,442] Trial 59 finished with value: 0.9230769230769231 and parameters: {'max_depth': 17, 'ccp_alpha': 0.1}. Best is trial 6 with value: 0.9487179487179487.\n",
            "C:\\Users\\lider\\AppData\\Local\\Temp\\ipykernel_20936\\279593658.py:33: ExperimentalWarning: plot_timeline is experimental (supported from v3.2.0). The interface can change in the future.\n",
            "  opt.visualization.matplotlib.plot_timeline(study)\n"
          ]
        },
        {
          "data": {
            "text/plain": [
              "<Axes: title={'center': 'Timeline Plot'}, xlabel='Datetime', ylabel='Trial'>"
            ]
          },
          "execution_count": 6,
          "metadata": {},
          "output_type": "execute_result"
        },
        {
          "data": {
            "image/png": "[encoded data removed]",
            "text/plain": [
              "<Figure size 640x480 with 1 Axes>"
            ]
          },
          "metadata": {},
          "output_type": "display_data"
        }
      ],
      "source": [
        "# Optimizing Classifier\n",
        "def tree_optimizer(trial):\n",
        "    # Setting up hyperparameters\n",
        "    # Sugesting max_depth considering the number of features (10 features up to 30 if consider mean, se and worst)\n",
        "    max_depth = trial.suggest_int(\"max_depth\", 10, 30)\n",
        "    # Sugesting ccp_alpha to not prune, or to prune real small values\n",
        "    ccp_alpha = trial.suggest_categorical(\"ccp_alpha\", [0.0, 0.1, 0.5])\n",
        "    print(f'Trial {trial.number}:\\n  max_depth = {max_depth}\\n  ccp_alpha = {ccp_alpha}')\n",
        "    classes = trainY.unique()\n",
        "\n",
        "    plt.figure(figsize=(8, 6))\n",
        "    decTree = DecisionTreeClassifier(criterion='entropy', max_depth=max_depth, ccp_alpha=ccp_alpha)\n",
        "    decTree = decTree.fit(trainX, trainY)\n",
        "    plot_tree(decTree, class_names=classes, node_ids=True, filled=True, rounded=True)\n",
        "    plt.savefig(f'{os.getcwd()}/trees/tree_{trial.number}.png', dpi=300)\n",
        "    plt.clf()\n",
        "    plt.close()\n",
        "\n",
        "    # Predicting validation set\n",
        "    predY = decTree.predict(testX)\n",
        "\n",
        "    # Generating classification report\n",
        "    report = classification_report(testY, predY, target_names=classes, output_dict=True)\n",
        "    reportDF = pd.DataFrame(report).transpose()\n",
        "    reportDF.to_csv(f'{os.getcwd()}/trees/report_{trial.number}.csv')\n",
        "\n",
        "    # For this dataset, the metric to be optimized is the recall for the M class    \n",
        "    return recall_score(testY, predY, pos_label='M')\n",
        "\n",
        "# Creating Study\n",
        "study = opt.create_study(direction=\"maximize\")\n",
        "study.optimize(tree_optimizer, n_trials=60)\n",
        "opt.visualization.matplotlib.plot_timeline(study)"
      ]
    },
    {
      "cell_type": "code",
      "execution_count": 7,
      "metadata": {},
      "outputs": [],
      "source": [
        "# Validating optimal model\n",
        "plt.figure(figsize=(8, 6))\n",
        "finalTree = DecisionTreeClassifier(criterion='entropy', max_depth=study.best_trial.params['max_depth'], ccp_alpha=study.best_trial.params['ccp_alpha'])\n",
        "finalTree = finalTree.fit(trainX, trainY)\n",
        "\n",
        "finalTreePredY = finalTree.predict(validationX)\n",
        "classes = trainY.unique()\n",
        "\n",
        "plot_tree(finalTree, class_names=classes, node_ids=True, filled=True, rounded=True)\n",
        "plt.savefig(f'{os.getcwd()}/trees/final_tree_{study.best_trial.number}.png', dpi=300)\n",
        "plt.clf()\n",
        "plt.close()\n",
        "\n",
        "# Generating classification report\n",
        "report = classification_report(validationY, finalTreePredY, target_names=classes, output_dict=True)\n",
        "reportDF = pd.DataFrame(report).transpose()\n",
        "reportDF.to_csv(f'{os.getcwd()}/trees/final_report_{study.best_trial.number}.csv')"
      ]
    },
    {
      "attachments": {},
      "cell_type": "markdown",
      "metadata": {
        "id": "IVvAMCn8LuhZ"
      },
      "source": [
        "#### Naive Bayes"
      ]
    },
    {
      "cell_type": "code",
      "execution_count": null,
      "metadata": {
        "colab": {
          "base_uri": "https://localhost:8080/"
        },
        "id": "KwCLePFSL9du",
        "outputId": "237af045-bd25-4ebb-da82-cef529b7f595"
      },
      "outputs": [
        {
          "data": {
            "text/plain": [
              "0.9181286549707602"
            ]
          },
          "execution_count": 7,
          "metadata": {},
          "output_type": "execute_result"
        }
      ],
      "source": [
        "# Classifier\n",
        "nBayes = GaussianNB()\n",
        "nBayes = nBayes.fit(trainX, trainY)\n",
        "\n",
        "nBayes.score(testX, testY)"
      ]
    },
    {
      "attachments": {},
      "cell_type": "markdown",
      "metadata": {
        "id": "TqwMWFWuOboO"
      },
      "source": [
        "#### Logistic Regression"
      ]
    },
    {
      "cell_type": "code",
      "execution_count": null,
      "metadata": {
        "id": "5-BshvRiOpnJ"
      },
      "outputs": [],
      "source": [
        "# Classifier"
      ]
    },
    {
      "attachments": {},
      "cell_type": "markdown",
      "metadata": {
        "id": "Mf8PZjMeOhh6"
      },
      "source": [
        "#### K-Neighbours"
      ]
    },
    {
      "cell_type": "code",
      "execution_count": null,
      "metadata": {
        "id": "vFSiSTEGOpHJ"
      },
      "outputs": [],
      "source": [
        "# Classifier"
      ]
    }
  ],
  "metadata": {
    "colab": {
      "provenance": []
    },
    "kernelspec": {
      "display_name": "ML",
      "language": "python",
      "name": "python3"
    },
    "language_info": {
      "codemirror_mode": {
        "name": "ipython",
        "version": 3
      },
      "file_extension": ".py",
      "mimetype": "text/x-python",
      "name": "python",
      "nbconvert_exporter": "python",
      "pygments_lexer": "ipython3",
      "version": "3.10.11"
    },
    "orig_nbformat": 4
  },
  "nbformat": 4,
  "nbformat_minor": 0
}
